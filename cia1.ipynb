{
 "cells": [
  {
   "cell_type": "code",
   "execution_count": 20,
   "id": "5b516b3f-b5b8-4a7e-bb66-53e2773b0d42",
   "metadata": {},
   "outputs": [],
   "source": [
    "import pandas as pd\n",
    "import numpy as np\n",
    "from sklearn.feature_extraction.text import TfidfVectorizer\n",
    "from sklearn.metrics.pairwise import cosine_similarity"
   ]
  },
  {
   "cell_type": "code",
   "execution_count": 21,
   "id": "7bbda3b9-a6c0-4724-ab69-4acd534abe1a",
   "metadata": {},
   "outputs": [],
   "source": [
    "class MovieRecommender:\n",
    "    def __init__(self, csv_path):\n",
    "        self.df = pd.read_csv(csv_path)\n",
    "        self.df['features'] = self.df['Genre'] + ' ' + self.df['Director'] + ' ' + self.df['Star1']\n",
    "        \n",
    "        self.vectorizer = TfidfVectorizer(stop_words='english')\n",
    "        self.feature_matrix = self.vectorizer.fit_transform(self.df['features'])\n",
    "        \n",
    "        self.similarity_matrix = cosine_similarity(self.feature_matrix)\n",
    "        \n",
    "        self.movie_indices = {title: idx for idx, title in enumerate(self.df['Series_Title'])}\n",
    "        \n",
    "        self.arms = {}\n",
    "        self.total_pulls = 0\n",
    "        self.arm_pulls = {}\n",
    "        self.arm_rewards = {}\n",
    "\n",
    "    def _ucb_score(self, arm):\n",
    "        if arm not in self.arm_pulls or self.arm_pulls[arm] == 0:\n",
    "            return float('inf')\n",
    "        \n",
    "        average_reward = self.arm_rewards[arm] / self.arm_pulls[arm]\n",
    "        exploration_bonus = np.sqrt(2 * np.log(self.total_pulls) / self.arm_pulls[arm])\n",
    "        \n",
    "        return average_reward + exploration_bonus\n",
    "\n",
    "    def recommend(self, movie_title, n_recommendations=5):\n",
    "        if movie_title not in self.movie_indices:\n",
    "            raise ValueError(f\"Movie '{movie_title}' not found in database\")\n",
    "        \n",
    "        movie_index = self.movie_indices[movie_title]\n",
    "        similar_indices = self.similarity_matrix[movie_index].argsort()[::-1][1:101]\n",
    "        \n",
    "        potential_recommendations = self.df.iloc[similar_indices]\n",
    "        \n",
    "        recommendations = []\n",
    "        for _, movie in potential_recommendations.iterrows():\n",
    "            if movie['Series_Title'] != movie_title and movie['Series_Title'] not in recommendations:\n",
    "                recommendations.append(movie['Series_Title'])\n",
    "                if len(recommendations) == n_recommendations:\n",
    "                    break\n",
    "        \n",
    "        self._update_bandit_stats(recommendations)\n",
    "        return recommendations\n",
    "\n",
    "    def _update_bandit_stats(self, recommended_movies):\n",
    "        self.total_pulls += 1\n",
    "        \n",
    "        for movie in recommended_movies:\n",
    "            if movie not in self.arm_pulls:\n",
    "                self.arm_pulls[movie] = 0\n",
    "                self.arm_rewards[movie] = 0\n",
    "            \n",
    "            self.arm_pulls[movie] += 1\n",
    "            \n",
    "            ucb_scores = {arm: self._ucb_score(arm) for arm in self.arm_pulls}\n",
    "            top_arm = max(ucb_scores, key=ucb_scores.get)\n",
    "            \n",
    "            self.arm_rewards[top_arm] += 1"
   ]
  },
  {
   "cell_type": "code",
   "execution_count": 23,
   "id": "9c345f29-046d-474e-8e05-3e334df121c8",
   "metadata": {},
   "outputs": [
    {
     "name": "stdout",
     "output_type": "stream",
     "text": [
      "Recommendations: ['Finding Nemo', 'WALL·E', 'Uri: The Surgical Strike', 'Vampire Hunter D: Bloodlust', 'The Fugitive']\n"
     ]
    }
   ],
   "source": [
    "recommender = MovieRecommender(csv_path='./imdb_top_1000.csv')\n",
    "recommendations = recommender.recommend('Shrek')\n",
    "print(\"Recommendations:\", recommendations)"
   ]
  },
  {
   "cell_type": "code",
   "execution_count": null,
   "id": "dee4578c-3c02-4c82-9383-755fb3bc2982",
   "metadata": {},
   "outputs": [],
   "source": []
  }
 ],
 "metadata": {
  "kernelspec": {
   "display_name": "Python 3 (ipykernel)",
   "language": "python",
   "name": "python3"
  },
  "language_info": {
   "codemirror_mode": {
    "name": "ipython",
    "version": 3
   },
   "file_extension": ".py",
   "mimetype": "text/x-python",
   "name": "python",
   "nbconvert_exporter": "python",
   "pygments_lexer": "ipython3",
   "version": "3.11.6"
  }
 },
 "nbformat": 4,
 "nbformat_minor": 5
}
